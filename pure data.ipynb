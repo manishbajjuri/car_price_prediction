{
 "cells": [
  {
   "cell_type": "code",
   "execution_count": 79,
   "metadata": {},
   "outputs": [],
   "source": [
    "# Data manupulation\n",
    "import numpy as np\n",
    "import pandas as pd\n",
    "\n",
    "#importing visualization libraries\n",
    "import matplotlib.pyplot as plt\n",
    "import seaborn as sns\n",
    "\n",
    "# train test split\n",
    "from sklearn.model_selection import train_test_split\n",
    "\n",
    "# models \n",
    "from sklearn.ensemble import RandomForestRegressor\n",
    "from sklearn.ensemble import AdaBoostRegressor\n",
    "from sklearn.ensemble import GradientBoostingRegressor\n",
    "from sklearn.tree import DecisionTreeRegressor\n",
    "from xgboost import XGBRegressor\n",
    "\n",
    "\n",
    "#performance metrics\n",
    "from sklearn.metrics import r2_score,mean_squared_error\n",
    "\n",
    "# Cross validation\n",
    "from sklearn.model_selection import cross_val_score\n",
    "\n",
    "#hyper parammeter tuening libs\n",
    "from  sklearn.model_selection import GridSearchCV,RandomizedSearchCV\n",
    "\n",
    "# feature selection \n",
    "from sklearn.feature_selection import RFE"
   ]
  },
  {
   "cell_type": "code",
   "execution_count": 80,
   "metadata": {},
   "outputs": [],
   "source": [
    "df=pd.read_excel(\"train.xlsx\")"
   ]
  },
  {
   "cell_type": "code",
   "execution_count": 81,
   "metadata": {},
   "outputs": [
    {
     "data": {
      "text/plain": [
       "(6019, 240.76)"
      ]
     },
     "execution_count": 81,
     "metadata": {},
     "output_type": "execute_result"
    }
   ],
   "source": [
    "# 4% of data\n",
    "df.shape[0],df.shape[0]*0.04"
   ]
  },
  {
   "cell_type": "code",
   "execution_count": 82,
   "metadata": {},
   "outputs": [
    {
     "data": {
      "text/html": [
       "<div>\n",
       "<style scoped>\n",
       "    .dataframe tbody tr th:only-of-type {\n",
       "        vertical-align: middle;\n",
       "    }\n",
       "\n",
       "    .dataframe tbody tr th {\n",
       "        vertical-align: top;\n",
       "    }\n",
       "\n",
       "    .dataframe thead th {\n",
       "        text-align: right;\n",
       "    }\n",
       "</style>\n",
       "<table border=\"1\" class=\"dataframe\">\n",
       "  <thead>\n",
       "    <tr style=\"text-align: right;\">\n",
       "      <th></th>\n",
       "      <th>Location</th>\n",
       "      <th>Year</th>\n",
       "      <th>Kilometers_Driven</th>\n",
       "      <th>Fuel_Type</th>\n",
       "      <th>Transmission</th>\n",
       "      <th>Owner_Type</th>\n",
       "      <th>Mileage</th>\n",
       "      <th>Engine</th>\n",
       "      <th>Power</th>\n",
       "      <th>Seats</th>\n",
       "      <th>Price</th>\n",
       "    </tr>\n",
       "  </thead>\n",
       "  <tbody>\n",
       "    <tr>\n",
       "      <th>0</th>\n",
       "      <td>Mumbai</td>\n",
       "      <td>2010</td>\n",
       "      <td>72000</td>\n",
       "      <td>CNG</td>\n",
       "      <td>Manual</td>\n",
       "      <td>First</td>\n",
       "      <td>26.6 km/kg</td>\n",
       "      <td>998 CC</td>\n",
       "      <td>58.16 bhp</td>\n",
       "      <td>5.0</td>\n",
       "      <td>1.75</td>\n",
       "    </tr>\n",
       "    <tr>\n",
       "      <th>1</th>\n",
       "      <td>Pune</td>\n",
       "      <td>2015</td>\n",
       "      <td>41000</td>\n",
       "      <td>Diesel</td>\n",
       "      <td>Manual</td>\n",
       "      <td>First</td>\n",
       "      <td>19.67 kmpl</td>\n",
       "      <td>1582 CC</td>\n",
       "      <td>126.2 bhp</td>\n",
       "      <td>5.0</td>\n",
       "      <td>12.50</td>\n",
       "    </tr>\n",
       "    <tr>\n",
       "      <th>2</th>\n",
       "      <td>Chennai</td>\n",
       "      <td>2011</td>\n",
       "      <td>46000</td>\n",
       "      <td>Petrol</td>\n",
       "      <td>Manual</td>\n",
       "      <td>First</td>\n",
       "      <td>18.2 kmpl</td>\n",
       "      <td>1199 CC</td>\n",
       "      <td>88.7 bhp</td>\n",
       "      <td>5.0</td>\n",
       "      <td>4.50</td>\n",
       "    </tr>\n",
       "    <tr>\n",
       "      <th>3</th>\n",
       "      <td>Chennai</td>\n",
       "      <td>2012</td>\n",
       "      <td>87000</td>\n",
       "      <td>Diesel</td>\n",
       "      <td>Manual</td>\n",
       "      <td>First</td>\n",
       "      <td>20.77 kmpl</td>\n",
       "      <td>1248 CC</td>\n",
       "      <td>88.76 bhp</td>\n",
       "      <td>7.0</td>\n",
       "      <td>6.00</td>\n",
       "    </tr>\n",
       "    <tr>\n",
       "      <th>4</th>\n",
       "      <td>Coimbatore</td>\n",
       "      <td>2013</td>\n",
       "      <td>40670</td>\n",
       "      <td>Diesel</td>\n",
       "      <td>Automatic</td>\n",
       "      <td>Second</td>\n",
       "      <td>15.2 kmpl</td>\n",
       "      <td>1968 CC</td>\n",
       "      <td>140.8 bhp</td>\n",
       "      <td>5.0</td>\n",
       "      <td>17.74</td>\n",
       "    </tr>\n",
       "  </tbody>\n",
       "</table>\n",
       "</div>"
      ],
      "text/plain": [
       "     Location  Year  Kilometers_Driven Fuel_Type Transmission Owner_Type  \\\n",
       "0      Mumbai  2010              72000       CNG       Manual      First   \n",
       "1        Pune  2015              41000    Diesel       Manual      First   \n",
       "2     Chennai  2011              46000    Petrol       Manual      First   \n",
       "3     Chennai  2012              87000    Diesel       Manual      First   \n",
       "4  Coimbatore  2013              40670    Diesel    Automatic     Second   \n",
       "\n",
       "      Mileage   Engine      Power  Seats  Price  \n",
       "0  26.6 km/kg   998 CC  58.16 bhp    5.0   1.75  \n",
       "1  19.67 kmpl  1582 CC  126.2 bhp    5.0  12.50  \n",
       "2   18.2 kmpl  1199 CC   88.7 bhp    5.0   4.50  \n",
       "3  20.77 kmpl  1248 CC  88.76 bhp    7.0   6.00  \n",
       "4   15.2 kmpl  1968 CC  140.8 bhp    5.0  17.74  "
      ]
     },
     "execution_count": 82,
     "metadata": {},
     "output_type": "execute_result"
    }
   ],
   "source": [
    "df.head(5)"
   ]
  },
  {
   "cell_type": "code",
   "execution_count": 83,
   "metadata": {},
   "outputs": [
    {
     "data": {
      "text/plain": [
       "Location              object\n",
       "Year                   int64\n",
       "Kilometers_Driven      int64\n",
       "Fuel_Type             object\n",
       "Transmission          object\n",
       "Owner_Type            object\n",
       "Mileage               object\n",
       "Engine                object\n",
       "Power                 object\n",
       "Seats                float64\n",
       "Price                float64\n",
       "dtype: object"
      ]
     },
     "execution_count": 83,
     "metadata": {},
     "output_type": "execute_result"
    }
   ],
   "source": [
    "df.dtypes"
   ]
  },
  {
   "cell_type": "code",
   "execution_count": 84,
   "metadata": {},
   "outputs": [
    {
     "name": "stdout",
     "output_type": "stream",
     "text": [
      "4% of data is : 240.76\n"
     ]
    },
    {
     "data": {
      "text/plain": [
       "Location              0\n",
       "Year                  0\n",
       "Kilometers_Driven     0\n",
       "Fuel_Type             0\n",
       "Transmission          0\n",
       "Owner_Type            0\n",
       "Mileage               2\n",
       "Engine               36\n",
       "Power                36\n",
       "Seats                42\n",
       "Price                 0\n",
       "dtype: int64"
      ]
     },
     "execution_count": 84,
     "metadata": {},
     "output_type": "execute_result"
    }
   ],
   "source": [
    "print(\"4% of data is :\",df.shape[0]*0.04)\n",
    "df.isnull().sum()"
   ]
  },
  {
   "cell_type": "code",
   "execution_count": 85,
   "metadata": {},
   "outputs": [],
   "source": [
    "df.dropna(inplace=True)"
   ]
  },
  {
   "cell_type": "code",
   "execution_count": 86,
   "metadata": {},
   "outputs": [
    {
     "data": {
      "text/plain": [
       "Location             0\n",
       "Year                 0\n",
       "Kilometers_Driven    0\n",
       "Fuel_Type            0\n",
       "Transmission         0\n",
       "Owner_Type           0\n",
       "Mileage              0\n",
       "Engine               0\n",
       "Power                0\n",
       "Seats                0\n",
       "Price                0\n",
       "dtype: int64"
      ]
     },
     "execution_count": 86,
     "metadata": {},
     "output_type": "execute_result"
    }
   ],
   "source": [
    "df.isnull().sum()"
   ]
  },
  {
   "cell_type": "code",
   "execution_count": 87,
   "metadata": {},
   "outputs": [
    {
     "data": {
      "text/plain": [
       "(5975, 11)"
      ]
     },
     "execution_count": 87,
     "metadata": {},
     "output_type": "execute_result"
    }
   ],
   "source": [
    "df.shape"
   ]
  },
  {
   "cell_type": "code",
   "execution_count": 88,
   "metadata": {},
   "outputs": [
    {
     "data": {
      "text/plain": [
       "Location              object\n",
       "Year                   int64\n",
       "Kilometers_Driven      int64\n",
       "Fuel_Type             object\n",
       "Transmission          object\n",
       "Owner_Type            object\n",
       "Mileage               object\n",
       "Engine                object\n",
       "Power                 object\n",
       "Seats                float64\n",
       "Price                float64\n",
       "dtype: object"
      ]
     },
     "execution_count": 88,
     "metadata": {},
     "output_type": "execute_result"
    }
   ],
   "source": [
    "df.dtypes"
   ]
  },
  {
   "cell_type": "markdown",
   "metadata": {},
   "source": [
    "# Handling object type feature "
   ]
  },
  {
   "cell_type": "markdown",
   "metadata": {},
   "source": [
    "## Encoding feature  based on frequency"
   ]
  },
  {
   "cell_type": "code",
   "execution_count": 89,
   "metadata": {},
   "outputs": [],
   "source": [
    "def encoding(df,data):\n",
    "    a=df[data].value_counts().to_dict()\n",
    "    fq = df.groupby(data).size()/len(df) \n",
    "    df[data] = df[data].map(fq) \n",
    "    b=df[data].value_counts().to_dict()\n",
    "    encode=dict(zip(a,b))    \n",
    "    return encode\n",
    "\n",
    "def cat_flot(df,data):\n",
    "    df[data]=df[data].astype(str).str.extract('(\\d+)').astype(float)\n",
    "    return df"
   ]
  },
  {
   "cell_type": "code",
   "execution_count": 90,
   "metadata": {},
   "outputs": [
    {
     "data": {
      "text/plain": [
       "{'Mumbai': 0.13121338912133892,\n",
       " 'Hyderabad': 0.12401673640167364,\n",
       " 'Kochi': 0.10845188284518828,\n",
       " 'Coimbatore': 0.10610878661087866,\n",
       " 'Pune': 0.10259414225941423,\n",
       " 'Delhi': 0.09188284518828452,\n",
       " 'Kolkata': 0.0887029288702929,\n",
       " 'Chennai': 0.08200836820083682,\n",
       " 'Jaipur': 0.06861924686192468,\n",
       " 'Bangalore': 0.05907949790794979,\n",
       " 'Ahmedabad': 0.03732217573221757}"
      ]
     },
     "execution_count": 90,
     "metadata": {},
     "output_type": "execute_result"
    }
   ],
   "source": [
    "encoding(df,'Location')"
   ]
  },
  {
   "cell_type": "code",
   "execution_count": 91,
   "metadata": {},
   "outputs": [
    {
     "data": {
      "text/plain": [
       "{'Diesel': 0.5347280334728034,\n",
       " 'Petrol': 0.45422594142259415,\n",
       " 'CNG': 0.009372384937238494,\n",
       " 'LPG': 0.0016736401673640166}"
      ]
     },
     "execution_count": 91,
     "metadata": {},
     "output_type": "execute_result"
    }
   ],
   "source": [
    "encoding(df,'Fuel_Type')"
   ]
  },
  {
   "cell_type": "code",
   "execution_count": 92,
   "metadata": {},
   "outputs": [
    {
     "data": {
      "text/plain": [
       "{'Manual': 0.7139748953974896, 'Automatic': 0.28602510460251046}"
      ]
     },
     "execution_count": 92,
     "metadata": {},
     "output_type": "execute_result"
    }
   ],
   "source": [
    "encoding(df,'Transmission')"
   ]
  },
  {
   "cell_type": "code",
   "execution_count": 93,
   "metadata": {},
   "outputs": [
    {
     "data": {
      "text/plain": [
       "{'First': 0.8205857740585774,\n",
       " 'Second': 0.1594979079497908,\n",
       " 'Third': 0.018577405857740585,\n",
       " 'Fourth & Above': 0.0013389121338912135}"
      ]
     },
     "execution_count": 93,
     "metadata": {},
     "output_type": "execute_result"
    }
   ],
   "source": [
    "encoding(df,'Owner_Type')"
   ]
  },
  {
   "cell_type": "code",
   "execution_count": 94,
   "metadata": {},
   "outputs": [],
   "source": [
    "cat_flot(df,'Mileage')\n",
    "cat_flot(df,'Engine')\n",
    "cat_flot(df,'Power')\n",
    "df.dropna(inplace=True,axis=0)"
   ]
  },
  {
   "cell_type": "code",
   "execution_count": 95,
   "metadata": {},
   "outputs": [
    {
     "data": {
      "text/plain": [
       "Location             0\n",
       "Year                 0\n",
       "Kilometers_Driven    0\n",
       "Fuel_Type            0\n",
       "Transmission         0\n",
       "Owner_Type           0\n",
       "Mileage              0\n",
       "Engine               0\n",
       "Power                0\n",
       "Seats                0\n",
       "Price                0\n",
       "dtype: int64"
      ]
     },
     "execution_count": 95,
     "metadata": {},
     "output_type": "execute_result"
    }
   ],
   "source": [
    "df.isna().sum()"
   ]
  },
  {
   "cell_type": "code",
   "execution_count": 96,
   "metadata": {},
   "outputs": [
    {
     "data": {
      "text/html": [
       "<div>\n",
       "<style scoped>\n",
       "    .dataframe tbody tr th:only-of-type {\n",
       "        vertical-align: middle;\n",
       "    }\n",
       "\n",
       "    .dataframe tbody tr th {\n",
       "        vertical-align: top;\n",
       "    }\n",
       "\n",
       "    .dataframe thead th {\n",
       "        text-align: right;\n",
       "    }\n",
       "</style>\n",
       "<table border=\"1\" class=\"dataframe\">\n",
       "  <thead>\n",
       "    <tr style=\"text-align: right;\">\n",
       "      <th></th>\n",
       "      <th>Location</th>\n",
       "      <th>Year</th>\n",
       "      <th>Kilometers_Driven</th>\n",
       "      <th>Fuel_Type</th>\n",
       "      <th>Transmission</th>\n",
       "      <th>Owner_Type</th>\n",
       "      <th>Mileage</th>\n",
       "      <th>Engine</th>\n",
       "      <th>Power</th>\n",
       "      <th>Seats</th>\n",
       "      <th>Price</th>\n",
       "    </tr>\n",
       "  </thead>\n",
       "  <tbody>\n",
       "    <tr>\n",
       "      <th>0</th>\n",
       "      <td>0.131213</td>\n",
       "      <td>2010</td>\n",
       "      <td>72000</td>\n",
       "      <td>0.009372</td>\n",
       "      <td>0.713975</td>\n",
       "      <td>0.820586</td>\n",
       "      <td>26.0</td>\n",
       "      <td>998.0</td>\n",
       "      <td>58.0</td>\n",
       "      <td>5.0</td>\n",
       "      <td>1.75</td>\n",
       "    </tr>\n",
       "    <tr>\n",
       "      <th>1</th>\n",
       "      <td>0.102594</td>\n",
       "      <td>2015</td>\n",
       "      <td>41000</td>\n",
       "      <td>0.534728</td>\n",
       "      <td>0.713975</td>\n",
       "      <td>0.820586</td>\n",
       "      <td>19.0</td>\n",
       "      <td>1582.0</td>\n",
       "      <td>126.0</td>\n",
       "      <td>5.0</td>\n",
       "      <td>12.50</td>\n",
       "    </tr>\n",
       "    <tr>\n",
       "      <th>2</th>\n",
       "      <td>0.082008</td>\n",
       "      <td>2011</td>\n",
       "      <td>46000</td>\n",
       "      <td>0.454226</td>\n",
       "      <td>0.713975</td>\n",
       "      <td>0.820586</td>\n",
       "      <td>18.0</td>\n",
       "      <td>1199.0</td>\n",
       "      <td>88.0</td>\n",
       "      <td>5.0</td>\n",
       "      <td>4.50</td>\n",
       "    </tr>\n",
       "    <tr>\n",
       "      <th>3</th>\n",
       "      <td>0.082008</td>\n",
       "      <td>2012</td>\n",
       "      <td>87000</td>\n",
       "      <td>0.534728</td>\n",
       "      <td>0.713975</td>\n",
       "      <td>0.820586</td>\n",
       "      <td>20.0</td>\n",
       "      <td>1248.0</td>\n",
       "      <td>88.0</td>\n",
       "      <td>7.0</td>\n",
       "      <td>6.00</td>\n",
       "    </tr>\n",
       "    <tr>\n",
       "      <th>4</th>\n",
       "      <td>0.106109</td>\n",
       "      <td>2013</td>\n",
       "      <td>40670</td>\n",
       "      <td>0.534728</td>\n",
       "      <td>0.286025</td>\n",
       "      <td>0.159498</td>\n",
       "      <td>15.0</td>\n",
       "      <td>1968.0</td>\n",
       "      <td>140.0</td>\n",
       "      <td>5.0</td>\n",
       "      <td>17.74</td>\n",
       "    </tr>\n",
       "  </tbody>\n",
       "</table>\n",
       "</div>"
      ],
      "text/plain": [
       "   Location  Year  Kilometers_Driven  Fuel_Type  Transmission  Owner_Type  \\\n",
       "0  0.131213  2010              72000   0.009372      0.713975    0.820586   \n",
       "1  0.102594  2015              41000   0.534728      0.713975    0.820586   \n",
       "2  0.082008  2011              46000   0.454226      0.713975    0.820586   \n",
       "3  0.082008  2012              87000   0.534728      0.713975    0.820586   \n",
       "4  0.106109  2013              40670   0.534728      0.286025    0.159498   \n",
       "\n",
       "   Mileage  Engine  Power  Seats  Price  \n",
       "0     26.0   998.0   58.0    5.0   1.75  \n",
       "1     19.0  1582.0  126.0    5.0  12.50  \n",
       "2     18.0  1199.0   88.0    5.0   4.50  \n",
       "3     20.0  1248.0   88.0    7.0   6.00  \n",
       "4     15.0  1968.0  140.0    5.0  17.74  "
      ]
     },
     "execution_count": 96,
     "metadata": {},
     "output_type": "execute_result"
    }
   ],
   "source": [
    "df.head()"
   ]
  },
  {
   "cell_type": "code",
   "execution_count": 97,
   "metadata": {},
   "outputs": [
    {
     "name": "stdout",
     "output_type": "stream",
     "text": [
      "(5872, 11)\n"
     ]
    }
   ],
   "source": [
    "print(df.shape)"
   ]
  },
  {
   "cell_type": "code",
   "execution_count": 98,
   "metadata": {},
   "outputs": [],
   "source": [
    "x=df.drop(['Price'],axis=1)\n",
    "y=df['Price']"
   ]
  },
  {
   "cell_type": "code",
   "execution_count": 99,
   "metadata": {},
   "outputs": [
    {
     "data": {
      "text/plain": [
       "((5872, 10), (5872,))"
      ]
     },
     "execution_count": 99,
     "metadata": {},
     "output_type": "execute_result"
    }
   ],
   "source": [
    "x.shape , y.shape"
   ]
  },
  {
   "cell_type": "code",
   "execution_count": 100,
   "metadata": {},
   "outputs": [],
   "source": [
    "dt=DecisionTreeRegressor()\n",
    "rf=RandomForestRegressor()\n",
    "adb=AdaBoostRegressor()\n",
    "gb=GradientBoostingRegressor()\n",
    "xgb=XGBRegressor()"
   ]
  },
  {
   "cell_type": "code",
   "execution_count": 101,
   "metadata": {},
   "outputs": [],
   "source": [
    "xtrain,xtest,ytrain,ytest=train_test_split(x,y,test_size=0.3,random_state=0)"
   ]
  },
  {
   "cell_type": "code",
   "execution_count": 102,
   "metadata": {},
   "outputs": [],
   "source": [
    "def built_model(model,model_name,X=xtrain,Y=ytrain):\n",
    "    model.fit(xtrain,ytrain)\n",
    "    ypred=model.predict(xtest)\n",
    "    print(model_name)\n",
    "    print(\"Model Accuracy : \",r2_score(ytest,ypred))\n",
    "    print(\"RMSE :\",np.sqrt(mean_squared_error(ytest,ypred)),'\\n')"
   ]
  },
  {
   "cell_type": "code",
   "execution_count": 103,
   "metadata": {},
   "outputs": [
    {
     "name": "stdout",
     "output_type": "stream",
     "text": [
      "Random Forest\n",
      "Model Accuracy :  0.8726099114951902\n",
      "RMSE : 4.482271780565534 \n",
      "\n",
      "GBoost\n",
      "Model Accuracy :  0.8749627760802214\n",
      "RMSE : 4.440685618043572 \n",
      "\n",
      "XGBoost\n",
      "Model Accuracy :  0.8805360087558061\n",
      "RMSE : 4.340591111167341 \n",
      "\n"
     ]
    }
   ],
   "source": [
    "built_model(rf,\"Random Forest\")\n",
    "built_model(gb,\"GBoost\")\n",
    "built_model(xgb,\"XGBoost\")"
   ]
  },
  {
   "cell_type": "markdown",
   "metadata": {},
   "source": [
    "# feature selection "
   ]
  },
  {
   "cell_type": "code",
   "execution_count": 104,
   "metadata": {},
   "outputs": [],
   "source": [
    "# model\n",
    "def ranf(xtrain,xtest,ytrain,ytest):\n",
    "    model=XGBRegressor(n_estimators=100)\n",
    "    model.fit(xtrain,ytrain)\n",
    "    pred=model.predict(xtest)\n",
    "    result=r2_score(pred,ytest)\n",
    "    print(result)"
   ]
  },
  {
   "cell_type": "code",
   "execution_count": 105,
   "metadata": {},
   "outputs": [],
   "source": [
    "xtrain,xtest,ytrain,ytest=train_test_split(x,y,test_size=0.3,random_state=10)"
   ]
  },
  {
   "cell_type": "code",
   "execution_count": 106,
   "metadata": {},
   "outputs": [
    {
     "name": "stdout",
     "output_type": "stream",
     "text": [
      "no of features selected  1\n",
      "0.7051505742031287\n",
      "Index(['Power'], dtype='object')\n",
      "\n",
      "no of features selected  2\n",
      "0.8610943246428402\n",
      "Index(['Year', 'Power'], dtype='object')\n",
      "\n",
      "no of features selected  3\n",
      "0.8813185681465885\n",
      "Index(['Year', 'Transmission', 'Power'], dtype='object')\n",
      "\n",
      "no of features selected  4\n",
      "0.9009547353708202\n",
      "Index(['Year', 'Transmission', 'Engine', 'Power'], dtype='object')\n",
      "\n",
      "no of features selected  5\n",
      "0.8858752672108708\n",
      "Index(['Year', 'Transmission', 'Engine', 'Power', 'Seats'], dtype='object')\n",
      "\n",
      "no of features selected  6\n",
      "0.8896998410894794\n",
      "Index(['Year', 'Fuel_Type', 'Transmission', 'Engine', 'Power', 'Seats'], dtype='object')\n",
      "\n",
      "no of features selected  7\n",
      "0.8884404523388278\n",
      "Index(['Year', 'Kilometers_Driven', 'Fuel_Type', 'Transmission', 'Engine',\n",
      "       'Power', 'Seats'],\n",
      "      dtype='object')\n",
      "\n",
      "no of features selected  8\n",
      "0.9053165558676679\n",
      "Index(['Year', 'Kilometers_Driven', 'Fuel_Type', 'Transmission', 'Mileage',\n",
      "       'Engine', 'Power', 'Seats'],\n",
      "      dtype='object')\n",
      "\n",
      "no of features selected  9\n",
      "0.92125053865433\n",
      "Index(['Location', 'Year', 'Kilometers_Driven', 'Fuel_Type', 'Transmission',\n",
      "       'Mileage', 'Engine', 'Power', 'Seats'],\n",
      "      dtype='object')\n",
      "\n",
      "no of features selected  10\n",
      "0.9256921188080379\n",
      "Index(['Location', 'Year', 'Kilometers_Driven', 'Fuel_Type', 'Transmission',\n",
      "       'Owner_Type', 'Mileage', 'Engine', 'Power', 'Seats'],\n",
      "      dtype='object')\n",
      "\n"
     ]
    }
   ],
   "source": [
    "for index in range(1,11):\n",
    "    sel=RFE(XGBRegressor(),n_features_to_select=index)\n",
    "    sel.fit(xtrain,ytrain)\n",
    "    xtrain_rfe=sel.transform(xtrain)\n",
    "    xtest_rfe=sel.transform(xtest)\n",
    "    print(\"no of features selected \",index)\n",
    "    ranf(xtrain_rfe,xtest_rfe,ytrain,ytest)\n",
    "    print(xtrain.columns[sel.get_support()])\n",
    "    print()"
   ]
  },
  {
   "cell_type": "code",
   "execution_count": 107,
   "metadata": {},
   "outputs": [],
   "source": [
    "x.drop(['Owner_Type'],axis=1,inplace=True)"
   ]
  },
  {
   "cell_type": "markdown",
   "metadata": {},
   "source": [
    "# cross validation "
   ]
  },
  {
   "cell_type": "code",
   "execution_count": 108,
   "metadata": {},
   "outputs": [],
   "source": [
    "def k_fold(x,y,folds=20):\n",
    "    rd=RandomForestRegressor()\n",
    "    gb=GradientBoostingRegressor()\n",
    "    xgb=XGBRegressor()\n",
    "    score_rd=cross_val_score(rd,x,y,cv=folds)\n",
    "    score_gb=cross_val_score(gb,x,y,cv=folds)\n",
    "    score_xgb=cross_val_score(xgb,x,y,cv=folds)\n",
    "    models=[rd,gb,xgb]\n",
    "    model_names=['RandomForestRegressor','Gboost','XGboost']\n",
    "    scores=[score_rd,score_gb,score_xgb]\n",
    "    result=[]\n",
    "    for x in range (0,len(models)):\n",
    "        sc_mean=np.mean(scores[x])\n",
    "        sc_std=np.std(scores[x])\n",
    "        m_name=model_names[x]\n",
    "        min=np.min(scores[x])\n",
    "        max=np.max(scores[x])\n",
    "        var=[m_name,sc_mean,sc_std,min,max]\n",
    "        result.append(var)\n",
    "    result_df=pd.DataFrame(result,columns=['ModelName','Averege_Accuracy','Standard_Deviation',\"Min\",\"Max\"])\n",
    "    return result_df"
   ]
  },
  {
   "cell_type": "code",
   "execution_count": 109,
   "metadata": {},
   "outputs": [
    {
     "data": {
      "text/html": [
       "<div>\n",
       "<style scoped>\n",
       "    .dataframe tbody tr th:only-of-type {\n",
       "        vertical-align: middle;\n",
       "    }\n",
       "\n",
       "    .dataframe tbody tr th {\n",
       "        vertical-align: top;\n",
       "    }\n",
       "\n",
       "    .dataframe thead th {\n",
       "        text-align: right;\n",
       "    }\n",
       "</style>\n",
       "<table border=\"1\" class=\"dataframe\">\n",
       "  <thead>\n",
       "    <tr style=\"text-align: right;\">\n",
       "      <th></th>\n",
       "      <th>ModelName</th>\n",
       "      <th>Averege_Accuracy</th>\n",
       "      <th>Standard_Deviation</th>\n",
       "      <th>Min</th>\n",
       "      <th>Max</th>\n",
       "    </tr>\n",
       "  </thead>\n",
       "  <tbody>\n",
       "    <tr>\n",
       "      <th>0</th>\n",
       "      <td>RandomForestRegressor</td>\n",
       "      <td>0.888975</td>\n",
       "      <td>0.057715</td>\n",
       "      <td>0.726230</td>\n",
       "      <td>0.955180</td>\n",
       "    </tr>\n",
       "    <tr>\n",
       "      <th>1</th>\n",
       "      <td>Gboost</td>\n",
       "      <td>0.880653</td>\n",
       "      <td>0.054086</td>\n",
       "      <td>0.716247</td>\n",
       "      <td>0.941555</td>\n",
       "    </tr>\n",
       "    <tr>\n",
       "      <th>2</th>\n",
       "      <td>XGboost</td>\n",
       "      <td>0.894908</td>\n",
       "      <td>0.065040</td>\n",
       "      <td>0.731999</td>\n",
       "      <td>0.952124</td>\n",
       "    </tr>\n",
       "  </tbody>\n",
       "</table>\n",
       "</div>"
      ],
      "text/plain": [
       "               ModelName  Averege_Accuracy  Standard_Deviation       Min  \\\n",
       "0  RandomForestRegressor          0.888975            0.057715  0.726230   \n",
       "1                 Gboost          0.880653            0.054086  0.716247   \n",
       "2                XGboost          0.894908            0.065040  0.731999   \n",
       "\n",
       "        Max  \n",
       "0  0.955180  \n",
       "1  0.941555  \n",
       "2  0.952124  "
      ]
     },
     "execution_count": 109,
     "metadata": {},
     "output_type": "execute_result"
    }
   ],
   "source": [
    "k_fold(x,y)"
   ]
  },
  {
   "cell_type": "code",
   "execution_count": 110,
   "metadata": {},
   "outputs": [],
   "source": [
    "def hpt(grid_or_random,estimator,param,X=x,Y=y):\n",
    "    if grid_or_random=='grid':\n",
    "        perform_obj=GridSearchCV(estimator,param,scoring='r2',n_jobs=-1)\n",
    "    elif grid_or_random=='random':\n",
    "        perform_obj=RandomizedSearchCV(estimator,param,scoring='r2',n_jobs=-1)\n",
    "    \n",
    "    obj_predict=perform_obj.fit(x,y)\n",
    "    result=obj_predict.best_estimator_\n",
    "    return result"
   ]
  },
  {
   "cell_type": "code",
   "execution_count": 111,
   "metadata": {},
   "outputs": [
    {
     "name": "stdout",
     "output_type": "stream",
     "text": [
      "XGB GridSearchCV :  0.8893343761954654\n"
     ]
    }
   ],
   "source": [
    "#XGBoost \n",
    "import xgboost\n",
    "xgb=XGBRegressor()\n",
    "xgb_param={'n_estimators':[250,350,450,550]}\n",
    "xgb_grid=hpt('grid',xgb,xgb_param)\n",
    "score_ada_grid=cross_val_score(xgb_grid,x,y,cv=10)\n",
    "print(\"XGB GridSearchCV : \",score_ada_grid.mean())"
   ]
  },
  {
   "cell_type": "code",
   "execution_count": 112,
   "metadata": {},
   "outputs": [
    {
     "data": {
      "text/plain": [
       "XGBRegressor(base_score=0.5, booster='gbtree', colsample_bylevel=1,\n",
       "             colsample_bynode=1, colsample_bytree=1, gamma=0, gpu_id=-1,\n",
       "             importance_type='gain', interaction_constraints='',\n",
       "             learning_rate=0.300000012, max_delta_step=0, max_depth=6,\n",
       "             min_child_weight=1, missing=nan, monotone_constraints='()',\n",
       "             n_estimators=250, n_jobs=0, num_parallel_tree=1, random_state=0,\n",
       "             reg_alpha=0, reg_lambda=1, scale_pos_weight=1, subsample=1,\n",
       "             tree_method='exact', validate_parameters=1, verbosity=None)"
      ]
     },
     "execution_count": 112,
     "metadata": {},
     "output_type": "execute_result"
    }
   ],
   "source": [
    "xgb_grid"
   ]
  },
  {
   "cell_type": "code",
   "execution_count": 113,
   "metadata": {},
   "outputs": [
    {
     "name": "stdout",
     "output_type": "stream",
     "text": [
      "XGB RandomSearchCV : 0.8910265834146293\n"
     ]
    }
   ],
   "source": [
    "xgb_param={'n_estimators':[250,350,550,606,720],\n",
    "           'learning_rate':[0.09,0.1,0.11,0.15,0.50,1],\n",
    "           \"random_state\":[0,10,20,30,40]\n",
    "          }\n",
    "xgb_random=hpt('random',xgb,xgb_param)\n",
    "score_xgb_random=cross_val_score(xgb_random,x,y,cv=10)\n",
    "print(\"XGB RandomSearchCV :\",score_xgb_random.mean() )"
   ]
  },
  {
   "cell_type": "code",
   "execution_count": 114,
   "metadata": {},
   "outputs": [
    {
     "data": {
      "text/plain": [
       "XGBRegressor(base_score=0.5, booster='gbtree', colsample_bylevel=1,\n",
       "             colsample_bynode=1, colsample_bytree=1, gamma=0, gpu_id=-1,\n",
       "             importance_type='gain', interaction_constraints='',\n",
       "             learning_rate=0.09, max_delta_step=0, max_depth=6,\n",
       "             min_child_weight=1, missing=nan, monotone_constraints='()',\n",
       "             n_estimators=720, n_jobs=0, num_parallel_tree=1, random_state=30,\n",
       "             reg_alpha=0, reg_lambda=1, scale_pos_weight=1, subsample=1,\n",
       "             tree_method='exact', validate_parameters=1, verbosity=None)"
      ]
     },
     "execution_count": 114,
     "metadata": {},
     "output_type": "execute_result"
    }
   ],
   "source": [
    "xgb_random"
   ]
  },
  {
   "cell_type": "code",
   "execution_count": 115,
   "metadata": {},
   "outputs": [],
   "source": [
    "model=XGBRegressor(base_score=0.5, booster='gbtree', colsample_bylevel=1,\n",
    "             colsample_bynode=1, colsample_bytree=1, gamma=0, gpu_id=-1,\n",
    "             importance_type='gain', interaction_constraints='',\n",
    "             learning_rate=0.1, max_delta_step=0, max_depth=6,\n",
    "             min_child_weight=1, monotone_constraints='()',\n",
    "             n_estimators=606, n_jobs=-1, num_parallel_tree=1,\n",
    "             reg_alpha=0, reg_lambda=1, scale_pos_weight=1, subsample=1,\n",
    "             tree_method='exact', validate_parameters=1, verbosity=None)"
   ]
  },
  {
   "cell_type": "code",
   "execution_count": 116,
   "metadata": {},
   "outputs": [
    {
     "data": {
      "text/plain": [
       "XGBRegressor(base_score=0.5, booster='gbtree', colsample_bylevel=1,\n",
       "             colsample_bynode=1, colsample_bytree=1, gamma=0, gpu_id=-1,\n",
       "             importance_type='gain', interaction_constraints='',\n",
       "             learning_rate=0.1, max_delta_step=0, max_depth=6,\n",
       "             min_child_weight=1, missing=nan, monotone_constraints='()',\n",
       "             n_estimators=606, n_jobs=-1, num_parallel_tree=1, random_state=0,\n",
       "             reg_alpha=0, reg_lambda=1, scale_pos_weight=1, subsample=1,\n",
       "             tree_method='exact', validate_parameters=1, verbosity=None)"
      ]
     },
     "execution_count": 116,
     "metadata": {},
     "output_type": "execute_result"
    }
   ],
   "source": [
    "model.fit(xtrain,ytrain)"
   ]
  },
  {
   "cell_type": "code",
   "execution_count": 117,
   "metadata": {},
   "outputs": [
    {
     "data": {
      "text/plain": [
       "0.9272787735057759"
      ]
     },
     "execution_count": 117,
     "metadata": {},
     "output_type": "execute_result"
    }
   ],
   "source": [
    "pre=model.predict(xtest)\n",
    "r2_score(ytest,pre)"
   ]
  },
  {
   "cell_type": "code",
   "execution_count": 118,
   "metadata": {},
   "outputs": [
    {
     "data": {
      "text/plain": [
       "['car.pkl']"
      ]
     },
     "execution_count": 118,
     "metadata": {},
     "output_type": "execute_result"
    }
   ],
   "source": [
    "import joblib\n",
    "filename = 'car.pkl'\n",
    "joblib.dump(model, filename)\n",
    "#model = joblib.load(filename)"
   ]
  },
  {
   "cell_type": "markdown",
   "metadata": {},
   "source": [
    "# Using Catboost"
   ]
  },
  {
   "cell_type": "code",
   "execution_count": 45,
   "metadata": {},
   "outputs": [],
   "source": [
    "import catboost"
   ]
  },
  {
   "cell_type": "code",
   "execution_count": 46,
   "metadata": {},
   "outputs": [],
   "source": [
    "from catboost import CatBoostRegressor"
   ]
  },
  {
   "cell_type": "code",
   "execution_count": 64,
   "metadata": {},
   "outputs": [],
   "source": [
    "df=pd.read_excel(\"train.xlsx\")"
   ]
  },
  {
   "cell_type": "code",
   "execution_count": 65,
   "metadata": {},
   "outputs": [
    {
     "data": {
      "text/html": [
       "<div>\n",
       "<style scoped>\n",
       "    .dataframe tbody tr th:only-of-type {\n",
       "        vertical-align: middle;\n",
       "    }\n",
       "\n",
       "    .dataframe tbody tr th {\n",
       "        vertical-align: top;\n",
       "    }\n",
       "\n",
       "    .dataframe thead th {\n",
       "        text-align: right;\n",
       "    }\n",
       "</style>\n",
       "<table border=\"1\" class=\"dataframe\">\n",
       "  <thead>\n",
       "    <tr style=\"text-align: right;\">\n",
       "      <th></th>\n",
       "      <th>Location</th>\n",
       "      <th>Year</th>\n",
       "      <th>Kilometers_Driven</th>\n",
       "      <th>Fuel_Type</th>\n",
       "      <th>Transmission</th>\n",
       "      <th>Owner_Type</th>\n",
       "      <th>Mileage</th>\n",
       "      <th>Engine</th>\n",
       "      <th>Power</th>\n",
       "      <th>Seats</th>\n",
       "      <th>Price</th>\n",
       "    </tr>\n",
       "  </thead>\n",
       "  <tbody>\n",
       "    <tr>\n",
       "      <th>0</th>\n",
       "      <td>Mumbai</td>\n",
       "      <td>2010</td>\n",
       "      <td>72000</td>\n",
       "      <td>CNG</td>\n",
       "      <td>Manual</td>\n",
       "      <td>First</td>\n",
       "      <td>26.6 km/kg</td>\n",
       "      <td>998 CC</td>\n",
       "      <td>58.16 bhp</td>\n",
       "      <td>5.0</td>\n",
       "      <td>1.75</td>\n",
       "    </tr>\n",
       "    <tr>\n",
       "      <th>1</th>\n",
       "      <td>Pune</td>\n",
       "      <td>2015</td>\n",
       "      <td>41000</td>\n",
       "      <td>Diesel</td>\n",
       "      <td>Manual</td>\n",
       "      <td>First</td>\n",
       "      <td>19.67 kmpl</td>\n",
       "      <td>1582 CC</td>\n",
       "      <td>126.2 bhp</td>\n",
       "      <td>5.0</td>\n",
       "      <td>12.50</td>\n",
       "    </tr>\n",
       "    <tr>\n",
       "      <th>2</th>\n",
       "      <td>Chennai</td>\n",
       "      <td>2011</td>\n",
       "      <td>46000</td>\n",
       "      <td>Petrol</td>\n",
       "      <td>Manual</td>\n",
       "      <td>First</td>\n",
       "      <td>18.2 kmpl</td>\n",
       "      <td>1199 CC</td>\n",
       "      <td>88.7 bhp</td>\n",
       "      <td>5.0</td>\n",
       "      <td>4.50</td>\n",
       "    </tr>\n",
       "    <tr>\n",
       "      <th>3</th>\n",
       "      <td>Chennai</td>\n",
       "      <td>2012</td>\n",
       "      <td>87000</td>\n",
       "      <td>Diesel</td>\n",
       "      <td>Manual</td>\n",
       "      <td>First</td>\n",
       "      <td>20.77 kmpl</td>\n",
       "      <td>1248 CC</td>\n",
       "      <td>88.76 bhp</td>\n",
       "      <td>7.0</td>\n",
       "      <td>6.00</td>\n",
       "    </tr>\n",
       "    <tr>\n",
       "      <th>4</th>\n",
       "      <td>Coimbatore</td>\n",
       "      <td>2013</td>\n",
       "      <td>40670</td>\n",
       "      <td>Diesel</td>\n",
       "      <td>Automatic</td>\n",
       "      <td>Second</td>\n",
       "      <td>15.2 kmpl</td>\n",
       "      <td>1968 CC</td>\n",
       "      <td>140.8 bhp</td>\n",
       "      <td>5.0</td>\n",
       "      <td>17.74</td>\n",
       "    </tr>\n",
       "  </tbody>\n",
       "</table>\n",
       "</div>"
      ],
      "text/plain": [
       "     Location  Year  Kilometers_Driven Fuel_Type Transmission Owner_Type  \\\n",
       "0      Mumbai  2010              72000       CNG       Manual      First   \n",
       "1        Pune  2015              41000    Diesel       Manual      First   \n",
       "2     Chennai  2011              46000    Petrol       Manual      First   \n",
       "3     Chennai  2012              87000    Diesel       Manual      First   \n",
       "4  Coimbatore  2013              40670    Diesel    Automatic     Second   \n",
       "\n",
       "      Mileage   Engine      Power  Seats  Price  \n",
       "0  26.6 km/kg   998 CC  58.16 bhp    5.0   1.75  \n",
       "1  19.67 kmpl  1582 CC  126.2 bhp    5.0  12.50  \n",
       "2   18.2 kmpl  1199 CC   88.7 bhp    5.0   4.50  \n",
       "3  20.77 kmpl  1248 CC  88.76 bhp    7.0   6.00  \n",
       "4   15.2 kmpl  1968 CC  140.8 bhp    5.0  17.74  "
      ]
     },
     "execution_count": 65,
     "metadata": {},
     "output_type": "execute_result"
    }
   ],
   "source": [
    "df.head()"
   ]
  },
  {
   "cell_type": "code",
   "execution_count": 66,
   "metadata": {},
   "outputs": [],
   "source": [
    "cat_flot(df,'Mileage')\n",
    "cat_flot(df,'Engine')\n",
    "cat_flot(df,'Power')\n",
    "df.dropna(inplace=True,axis=0)"
   ]
  },
  {
   "cell_type": "code",
   "execution_count": 67,
   "metadata": {},
   "outputs": [],
   "source": [
    "catdata=df.drop(['Owner_Type'], axis=1)"
   ]
  },
  {
   "cell_type": "code",
   "execution_count": 68,
   "metadata": {},
   "outputs": [
    {
     "data": {
      "text/html": [
       "<div>\n",
       "<style scoped>\n",
       "    .dataframe tbody tr th:only-of-type {\n",
       "        vertical-align: middle;\n",
       "    }\n",
       "\n",
       "    .dataframe tbody tr th {\n",
       "        vertical-align: top;\n",
       "    }\n",
       "\n",
       "    .dataframe thead th {\n",
       "        text-align: right;\n",
       "    }\n",
       "</style>\n",
       "<table border=\"1\" class=\"dataframe\">\n",
       "  <thead>\n",
       "    <tr style=\"text-align: right;\">\n",
       "      <th></th>\n",
       "      <th>Location</th>\n",
       "      <th>Year</th>\n",
       "      <th>Kilometers_Driven</th>\n",
       "      <th>Fuel_Type</th>\n",
       "      <th>Transmission</th>\n",
       "      <th>Mileage</th>\n",
       "      <th>Engine</th>\n",
       "      <th>Power</th>\n",
       "      <th>Seats</th>\n",
       "      <th>Price</th>\n",
       "    </tr>\n",
       "  </thead>\n",
       "  <tbody>\n",
       "    <tr>\n",
       "      <th>0</th>\n",
       "      <td>Mumbai</td>\n",
       "      <td>2010</td>\n",
       "      <td>72000</td>\n",
       "      <td>CNG</td>\n",
       "      <td>Manual</td>\n",
       "      <td>26.0</td>\n",
       "      <td>998.0</td>\n",
       "      <td>58.0</td>\n",
       "      <td>5.0</td>\n",
       "      <td>1.75</td>\n",
       "    </tr>\n",
       "    <tr>\n",
       "      <th>1</th>\n",
       "      <td>Pune</td>\n",
       "      <td>2015</td>\n",
       "      <td>41000</td>\n",
       "      <td>Diesel</td>\n",
       "      <td>Manual</td>\n",
       "      <td>19.0</td>\n",
       "      <td>1582.0</td>\n",
       "      <td>126.0</td>\n",
       "      <td>5.0</td>\n",
       "      <td>12.50</td>\n",
       "    </tr>\n",
       "    <tr>\n",
       "      <th>2</th>\n",
       "      <td>Chennai</td>\n",
       "      <td>2011</td>\n",
       "      <td>46000</td>\n",
       "      <td>Petrol</td>\n",
       "      <td>Manual</td>\n",
       "      <td>18.0</td>\n",
       "      <td>1199.0</td>\n",
       "      <td>88.0</td>\n",
       "      <td>5.0</td>\n",
       "      <td>4.50</td>\n",
       "    </tr>\n",
       "    <tr>\n",
       "      <th>3</th>\n",
       "      <td>Chennai</td>\n",
       "      <td>2012</td>\n",
       "      <td>87000</td>\n",
       "      <td>Diesel</td>\n",
       "      <td>Manual</td>\n",
       "      <td>20.0</td>\n",
       "      <td>1248.0</td>\n",
       "      <td>88.0</td>\n",
       "      <td>7.0</td>\n",
       "      <td>6.00</td>\n",
       "    </tr>\n",
       "    <tr>\n",
       "      <th>4</th>\n",
       "      <td>Coimbatore</td>\n",
       "      <td>2013</td>\n",
       "      <td>40670</td>\n",
       "      <td>Diesel</td>\n",
       "      <td>Automatic</td>\n",
       "      <td>15.0</td>\n",
       "      <td>1968.0</td>\n",
       "      <td>140.0</td>\n",
       "      <td>5.0</td>\n",
       "      <td>17.74</td>\n",
       "    </tr>\n",
       "  </tbody>\n",
       "</table>\n",
       "</div>"
      ],
      "text/plain": [
       "     Location  Year  Kilometers_Driven Fuel_Type Transmission  Mileage  \\\n",
       "0      Mumbai  2010              72000       CNG       Manual     26.0   \n",
       "1        Pune  2015              41000    Diesel       Manual     19.0   \n",
       "2     Chennai  2011              46000    Petrol       Manual     18.0   \n",
       "3     Chennai  2012              87000    Diesel       Manual     20.0   \n",
       "4  Coimbatore  2013              40670    Diesel    Automatic     15.0   \n",
       "\n",
       "   Engine  Power  Seats  Price  \n",
       "0   998.0   58.0    5.0   1.75  \n",
       "1  1582.0  126.0    5.0  12.50  \n",
       "2  1199.0   88.0    5.0   4.50  \n",
       "3  1248.0   88.0    7.0   6.00  \n",
       "4  1968.0  140.0    5.0  17.74  "
      ]
     },
     "execution_count": 68,
     "metadata": {},
     "output_type": "execute_result"
    }
   ],
   "source": [
    "catdata.head()"
   ]
  },
  {
   "cell_type": "code",
   "execution_count": 69,
   "metadata": {},
   "outputs": [],
   "source": [
    "x=catdata.drop(['Price'],axis=1)"
   ]
  },
  {
   "cell_type": "code",
   "execution_count": 70,
   "metadata": {},
   "outputs": [],
   "source": [
    "y=catdata['Price']"
   ]
  },
  {
   "cell_type": "code",
   "execution_count": 74,
   "metadata": {},
   "outputs": [],
   "source": [
    "catxtrain,catxtest,catytrain,catytest=train_test_split(x,y,test_size=0.3,random_state=0)"
   ]
  },
  {
   "cell_type": "code",
   "execution_count": 75,
   "metadata": {},
   "outputs": [],
   "source": [
    "cf=['Location',\"Fuel_Type\",'Transmission']"
   ]
  },
  {
   "cell_type": "code",
   "execution_count": 76,
   "metadata": {},
   "outputs": [],
   "source": [
    "model = CatBoostRegressor(\n",
    "    n_estimators = 200,\n",
    "    loss_function = 'MAE',\n",
    "    eval_metric = 'RMSE',\n",
    "    cat_features = cf )"
   ]
  },
  {
   "cell_type": "code",
   "execution_count": 77,
   "metadata": {},
   "outputs": [
    {
     "name": "stdout",
     "output_type": "stream",
     "text": [
      "0:\tlearn: 11.0141876\ttotal: 248ms\tremaining: 49.4s\n",
      "1:\tlearn: 10.8194699\ttotal: 292ms\tremaining: 28.9s\n",
      "2:\tlearn: 10.6300377\ttotal: 326ms\tremaining: 21.4s\n",
      "3:\tlearn: 10.4577289\ttotal: 354ms\tremaining: 17.3s\n",
      "4:\tlearn: 10.2798931\ttotal: 379ms\tremaining: 14.8s\n",
      "5:\tlearn: 10.1096645\ttotal: 413ms\tremaining: 13.3s\n",
      "6:\tlearn: 9.9629506\ttotal: 439ms\tremaining: 12.1s\n",
      "7:\tlearn: 9.8020910\ttotal: 468ms\tremaining: 11.2s\n",
      "8:\tlearn: 9.6505232\ttotal: 505ms\tremaining: 10.7s\n",
      "9:\tlearn: 9.4944562\ttotal: 530ms\tremaining: 10.1s\n",
      "10:\tlearn: 9.3556858\ttotal: 566ms\tremaining: 9.72s\n",
      "11:\tlearn: 9.2309494\ttotal: 595ms\tremaining: 9.32s\n",
      "12:\tlearn: 9.1031066\ttotal: 624ms\tremaining: 8.97s\n",
      "13:\tlearn: 8.9785045\ttotal: 652ms\tremaining: 8.66s\n",
      "14:\tlearn: 8.8592720\ttotal: 678ms\tremaining: 8.37s\n",
      "15:\tlearn: 8.7461386\ttotal: 703ms\tremaining: 8.08s\n",
      "16:\tlearn: 8.6349268\ttotal: 730ms\tremaining: 7.86s\n",
      "17:\tlearn: 8.5331869\ttotal: 755ms\tremaining: 7.63s\n",
      "18:\tlearn: 8.4230626\ttotal: 774ms\tremaining: 7.38s\n",
      "19:\tlearn: 8.3088685\ttotal: 805ms\tremaining: 7.24s\n",
      "20:\tlearn: 8.2150073\ttotal: 844ms\tremaining: 7.19s\n",
      "21:\tlearn: 8.1188217\ttotal: 873ms\tremaining: 7.06s\n",
      "22:\tlearn: 8.0459581\ttotal: 908ms\tremaining: 6.99s\n",
      "23:\tlearn: 7.9624871\ttotal: 933ms\tremaining: 6.84s\n",
      "24:\tlearn: 7.8969460\ttotal: 963ms\tremaining: 6.74s\n",
      "25:\tlearn: 7.8342616\ttotal: 992ms\tremaining: 6.64s\n",
      "26:\tlearn: 7.7412663\ttotal: 1.05s\tremaining: 6.73s\n",
      "27:\tlearn: 7.6731872\ttotal: 1.12s\tremaining: 6.87s\n",
      "28:\tlearn: 7.5844132\ttotal: 1.17s\tremaining: 6.92s\n",
      "29:\tlearn: 7.5059738\ttotal: 1.21s\tremaining: 6.87s\n",
      "30:\tlearn: 7.4434783\ttotal: 1.25s\tremaining: 6.79s\n",
      "31:\tlearn: 7.3736947\ttotal: 1.3s\tremaining: 6.84s\n",
      "32:\tlearn: 7.3096573\ttotal: 1.35s\tremaining: 6.85s\n",
      "33:\tlearn: 7.2465017\ttotal: 1.4s\tremaining: 6.83s\n",
      "34:\tlearn: 7.1862884\ttotal: 1.47s\tremaining: 6.94s\n",
      "35:\tlearn: 7.1205987\ttotal: 1.53s\tremaining: 7s\n",
      "36:\tlearn: 7.0739360\ttotal: 1.6s\tremaining: 7.07s\n",
      "37:\tlearn: 6.9956861\ttotal: 1.67s\tremaining: 7.1s\n",
      "38:\tlearn: 6.9379067\ttotal: 1.71s\tremaining: 7.08s\n",
      "39:\tlearn: 6.8910675\ttotal: 1.78s\tremaining: 7.12s\n",
      "40:\tlearn: 6.8361773\ttotal: 1.86s\tremaining: 7.2s\n",
      "41:\tlearn: 6.7962381\ttotal: 1.93s\tremaining: 7.28s\n",
      "42:\tlearn: 6.7310588\ttotal: 1.97s\tremaining: 7.18s\n",
      "43:\tlearn: 6.6928474\ttotal: 2.01s\tremaining: 7.13s\n",
      "44:\tlearn: 6.6472847\ttotal: 2.05s\tremaining: 7.08s\n",
      "45:\tlearn: 6.5629757\ttotal: 2.09s\tremaining: 7s\n",
      "46:\tlearn: 6.5327836\ttotal: 2.13s\tremaining: 6.95s\n",
      "47:\tlearn: 6.4677297\ttotal: 2.17s\tremaining: 6.88s\n",
      "48:\tlearn: 6.4463148\ttotal: 2.21s\tremaining: 6.81s\n",
      "49:\tlearn: 6.3998940\ttotal: 2.23s\tremaining: 6.71s\n",
      "50:\tlearn: 6.3602551\ttotal: 2.26s\tremaining: 6.61s\n",
      "51:\tlearn: 6.3088076\ttotal: 2.29s\tremaining: 6.53s\n",
      "52:\tlearn: 6.2631450\ttotal: 2.34s\tremaining: 6.49s\n",
      "53:\tlearn: 6.2314040\ttotal: 2.37s\tremaining: 6.42s\n",
      "54:\tlearn: 6.1918348\ttotal: 2.4s\tremaining: 6.33s\n",
      "55:\tlearn: 6.1336999\ttotal: 2.42s\tremaining: 6.23s\n",
      "56:\tlearn: 6.0915839\ttotal: 2.45s\tremaining: 6.14s\n",
      "57:\tlearn: 6.0261643\ttotal: 2.47s\tremaining: 6.05s\n",
      "58:\tlearn: 6.0087681\ttotal: 2.5s\tremaining: 5.96s\n",
      "59:\tlearn: 5.9741433\ttotal: 2.52s\tremaining: 5.87s\n",
      "60:\tlearn: 5.9238836\ttotal: 2.54s\tremaining: 5.8s\n",
      "61:\tlearn: 5.8790860\ttotal: 2.57s\tremaining: 5.73s\n",
      "62:\tlearn: 5.8563979\ttotal: 2.59s\tremaining: 5.64s\n",
      "63:\tlearn: 5.8199301\ttotal: 2.62s\tremaining: 5.56s\n",
      "64:\tlearn: 5.7718414\ttotal: 2.64s\tremaining: 5.49s\n",
      "65:\tlearn: 5.7516507\ttotal: 2.67s\tremaining: 5.43s\n",
      "66:\tlearn: 5.7379990\ttotal: 2.7s\tremaining: 5.36s\n",
      "67:\tlearn: 5.6805895\ttotal: 2.73s\tremaining: 5.3s\n",
      "68:\tlearn: 5.6553093\ttotal: 2.75s\tremaining: 5.22s\n",
      "69:\tlearn: 5.6063557\ttotal: 2.78s\tremaining: 5.16s\n",
      "70:\tlearn: 5.5817393\ttotal: 2.8s\tremaining: 5.09s\n",
      "71:\tlearn: 5.5642138\ttotal: 2.82s\tremaining: 5.02s\n",
      "72:\tlearn: 5.5234063\ttotal: 2.85s\tremaining: 4.96s\n",
      "73:\tlearn: 5.4987297\ttotal: 2.88s\tremaining: 4.9s\n",
      "74:\tlearn: 5.4936675\ttotal: 2.9s\tremaining: 4.83s\n",
      "75:\tlearn: 5.4329736\ttotal: 2.92s\tremaining: 4.77s\n",
      "76:\tlearn: 5.4247344\ttotal: 2.94s\tremaining: 4.71s\n",
      "77:\tlearn: 5.4091683\ttotal: 2.97s\tremaining: 4.64s\n",
      "78:\tlearn: 5.3794893\ttotal: 2.99s\tremaining: 4.58s\n",
      "79:\tlearn: 5.3754091\ttotal: 3.01s\tremaining: 4.51s\n",
      "80:\tlearn: 5.3418610\ttotal: 3.03s\tremaining: 4.46s\n",
      "81:\tlearn: 5.3176047\ttotal: 3.06s\tremaining: 4.4s\n",
      "82:\tlearn: 5.2840294\ttotal: 3.08s\tremaining: 4.34s\n",
      "83:\tlearn: 5.2695847\ttotal: 3.1s\tremaining: 4.28s\n",
      "84:\tlearn: 5.2588499\ttotal: 3.12s\tremaining: 4.22s\n",
      "85:\tlearn: 5.2196561\ttotal: 3.14s\tremaining: 4.16s\n",
      "86:\tlearn: 5.1898414\ttotal: 3.16s\tremaining: 4.1s\n",
      "87:\tlearn: 5.1855971\ttotal: 3.17s\tremaining: 4.04s\n",
      "88:\tlearn: 5.1630814\ttotal: 3.2s\tremaining: 4s\n",
      "89:\tlearn: 5.1245870\ttotal: 3.23s\tremaining: 3.95s\n",
      "90:\tlearn: 5.0932769\ttotal: 3.26s\tremaining: 3.91s\n",
      "91:\tlearn: 5.0807463\ttotal: 3.29s\tremaining: 3.87s\n",
      "92:\tlearn: 5.0672323\ttotal: 3.32s\tremaining: 3.82s\n",
      "93:\tlearn: 5.0341457\ttotal: 3.35s\tremaining: 3.78s\n",
      "94:\tlearn: 5.0298850\ttotal: 3.37s\tremaining: 3.73s\n",
      "95:\tlearn: 5.0049138\ttotal: 3.4s\tremaining: 3.69s\n",
      "96:\tlearn: 4.9964816\ttotal: 3.43s\tremaining: 3.64s\n",
      "97:\tlearn: 4.9844186\ttotal: 3.45s\tremaining: 3.59s\n",
      "98:\tlearn: 4.9601087\ttotal: 3.48s\tremaining: 3.55s\n",
      "99:\tlearn: 4.9554175\ttotal: 3.5s\tremaining: 3.5s\n",
      "100:\tlearn: 4.9457902\ttotal: 3.52s\tremaining: 3.45s\n",
      "101:\tlearn: 4.9167998\ttotal: 3.54s\tremaining: 3.4s\n",
      "102:\tlearn: 4.8894148\ttotal: 3.58s\tremaining: 3.37s\n",
      "103:\tlearn: 4.8778303\ttotal: 3.61s\tremaining: 3.33s\n",
      "104:\tlearn: 4.8550353\ttotal: 3.63s\tremaining: 3.29s\n",
      "105:\tlearn: 4.8297827\ttotal: 3.65s\tremaining: 3.24s\n",
      "106:\tlearn: 4.8191512\ttotal: 3.68s\tremaining: 3.2s\n",
      "107:\tlearn: 4.8022719\ttotal: 3.72s\tremaining: 3.17s\n",
      "108:\tlearn: 4.7976903\ttotal: 3.76s\tremaining: 3.14s\n",
      "109:\tlearn: 4.7751858\ttotal: 3.81s\tremaining: 3.12s\n",
      "110:\tlearn: 4.7707775\ttotal: 3.85s\tremaining: 3.09s\n",
      "111:\tlearn: 4.7438507\ttotal: 3.92s\tremaining: 3.08s\n",
      "112:\tlearn: 4.7222387\ttotal: 3.96s\tremaining: 3.05s\n",
      "113:\tlearn: 4.7019719\ttotal: 4.03s\tremaining: 3.04s\n",
      "114:\tlearn: 4.6859671\ttotal: 4.05s\tremaining: 2.99s\n",
      "115:\tlearn: 4.6675835\ttotal: 4.09s\tremaining: 2.96s\n",
      "116:\tlearn: 4.6641901\ttotal: 4.12s\tremaining: 2.92s\n",
      "117:\tlearn: 4.6506657\ttotal: 4.15s\tremaining: 2.88s\n",
      "118:\tlearn: 4.6442349\ttotal: 4.19s\tremaining: 2.85s\n",
      "119:\tlearn: 4.6338997\ttotal: 4.24s\tremaining: 2.83s\n",
      "120:\tlearn: 4.6166900\ttotal: 4.28s\tremaining: 2.79s\n",
      "121:\tlearn: 4.6027617\ttotal: 4.32s\tremaining: 2.76s\n",
      "122:\tlearn: 4.5991492\ttotal: 4.34s\tremaining: 2.71s\n",
      "123:\tlearn: 4.5806427\ttotal: 4.4s\tremaining: 2.69s\n",
      "124:\tlearn: 4.5759681\ttotal: 4.45s\tremaining: 2.67s\n",
      "125:\tlearn: 4.5745573\ttotal: 4.47s\tremaining: 2.62s\n",
      "126:\tlearn: 4.5717181\ttotal: 4.51s\tremaining: 2.59s\n",
      "127:\tlearn: 4.5629072\ttotal: 4.57s\tremaining: 2.57s\n",
      "128:\tlearn: 4.5596752\ttotal: 4.62s\tremaining: 2.54s\n",
      "129:\tlearn: 4.5368734\ttotal: 4.66s\tremaining: 2.51s\n",
      "130:\tlearn: 4.5347411\ttotal: 4.7s\tremaining: 2.48s\n",
      "131:\tlearn: 4.5230488\ttotal: 4.74s\tremaining: 2.44s\n",
      "132:\tlearn: 4.5178570\ttotal: 4.79s\tremaining: 2.41s\n",
      "133:\tlearn: 4.4977497\ttotal: 4.84s\tremaining: 2.38s\n",
      "134:\tlearn: 4.4777215\ttotal: 4.9s\tremaining: 2.36s\n",
      "135:\tlearn: 4.4742692\ttotal: 4.96s\tremaining: 2.33s\n",
      "136:\tlearn: 4.4591625\ttotal: 5s\tremaining: 2.3s\n",
      "137:\tlearn: 4.4525160\ttotal: 5.04s\tremaining: 2.26s\n",
      "138:\tlearn: 4.4336089\ttotal: 5.08s\tremaining: 2.23s\n",
      "139:\tlearn: 4.4202470\ttotal: 5.14s\tremaining: 2.2s\n",
      "140:\tlearn: 4.4178380\ttotal: 5.17s\tremaining: 2.16s\n",
      "141:\tlearn: 4.4152721\ttotal: 5.2s\tremaining: 2.12s\n",
      "142:\tlearn: 4.3959779\ttotal: 5.24s\tremaining: 2.09s\n",
      "143:\tlearn: 4.3805649\ttotal: 5.27s\tremaining: 2.05s\n",
      "144:\tlearn: 4.3679312\ttotal: 5.32s\tremaining: 2.02s\n",
      "145:\tlearn: 4.3555616\ttotal: 5.37s\tremaining: 1.99s\n",
      "146:\tlearn: 4.3442682\ttotal: 5.4s\tremaining: 1.95s\n",
      "147:\tlearn: 4.3395305\ttotal: 5.43s\tremaining: 1.91s\n",
      "148:\tlearn: 4.3300695\ttotal: 5.45s\tremaining: 1.87s\n",
      "149:\tlearn: 4.3196272\ttotal: 5.49s\tremaining: 1.83s\n",
      "150:\tlearn: 4.3133345\ttotal: 5.51s\tremaining: 1.79s\n",
      "151:\tlearn: 4.3016854\ttotal: 5.54s\tremaining: 1.75s\n",
      "152:\tlearn: 4.2855410\ttotal: 5.55s\tremaining: 1.71s\n",
      "153:\tlearn: 4.2818114\ttotal: 5.58s\tremaining: 1.67s\n",
      "154:\tlearn: 4.2754166\ttotal: 5.6s\tremaining: 1.63s\n",
      "155:\tlearn: 4.2717375\ttotal: 5.61s\tremaining: 1.58s\n",
      "156:\tlearn: 4.2661662\ttotal: 5.63s\tremaining: 1.54s\n",
      "157:\tlearn: 4.2577338\ttotal: 5.67s\tremaining: 1.51s\n",
      "158:\tlearn: 4.2565944\ttotal: 5.69s\tremaining: 1.47s\n",
      "159:\tlearn: 4.2450266\ttotal: 5.72s\tremaining: 1.43s\n",
      "160:\tlearn: 4.2438056\ttotal: 5.75s\tremaining: 1.39s\n",
      "161:\tlearn: 4.2402148\ttotal: 5.78s\tremaining: 1.36s\n",
      "162:\tlearn: 4.2333902\ttotal: 5.81s\tremaining: 1.32s\n"
     ]
    },
    {
     "name": "stdout",
     "output_type": "stream",
     "text": [
      "163:\tlearn: 4.2240254\ttotal: 5.86s\tremaining: 1.28s\n",
      "164:\tlearn: 4.2239079\ttotal: 5.87s\tremaining: 1.25s\n",
      "165:\tlearn: 4.2141420\ttotal: 5.91s\tremaining: 1.21s\n",
      "166:\tlearn: 4.2076120\ttotal: 5.96s\tremaining: 1.18s\n",
      "167:\tlearn: 4.1958736\ttotal: 6s\tremaining: 1.14s\n",
      "168:\tlearn: 4.1943995\ttotal: 6.04s\tremaining: 1.11s\n",
      "169:\tlearn: 4.1908942\ttotal: 6.08s\tremaining: 1.07s\n",
      "170:\tlearn: 4.1871992\ttotal: 6.12s\tremaining: 1.04s\n",
      "171:\tlearn: 4.1737379\ttotal: 6.15s\tremaining: 1s\n",
      "172:\tlearn: 4.1715359\ttotal: 6.18s\tremaining: 964ms\n",
      "173:\tlearn: 4.1682680\ttotal: 6.2s\tremaining: 926ms\n",
      "174:\tlearn: 4.1620548\ttotal: 6.23s\tremaining: 890ms\n",
      "175:\tlearn: 4.1556146\ttotal: 6.25s\tremaining: 852ms\n",
      "176:\tlearn: 4.1333669\ttotal: 6.28s\tremaining: 816ms\n",
      "177:\tlearn: 4.1329682\ttotal: 6.3s\tremaining: 779ms\n",
      "178:\tlearn: 4.1315117\ttotal: 6.32s\tremaining: 741ms\n",
      "179:\tlearn: 4.1281863\ttotal: 6.34s\tremaining: 704ms\n",
      "180:\tlearn: 4.1163940\ttotal: 6.36s\tremaining: 667ms\n",
      "181:\tlearn: 4.1090114\ttotal: 6.39s\tremaining: 632ms\n",
      "182:\tlearn: 4.1067042\ttotal: 6.4s\tremaining: 595ms\n",
      "183:\tlearn: 4.0947382\ttotal: 6.42s\tremaining: 558ms\n",
      "184:\tlearn: 4.0894988\ttotal: 6.43s\tremaining: 522ms\n",
      "185:\tlearn: 4.0843776\ttotal: 6.46s\tremaining: 486ms\n",
      "186:\tlearn: 4.0829050\ttotal: 6.48s\tremaining: 450ms\n",
      "187:\tlearn: 4.0717742\ttotal: 6.5s\tremaining: 415ms\n",
      "188:\tlearn: 4.0588179\ttotal: 6.52s\tremaining: 379ms\n",
      "189:\tlearn: 4.0546777\ttotal: 6.54s\tremaining: 344ms\n",
      "190:\tlearn: 4.0537011\ttotal: 6.55s\tremaining: 309ms\n",
      "191:\tlearn: 4.0521307\ttotal: 6.58s\tremaining: 274ms\n",
      "192:\tlearn: 4.0449840\ttotal: 6.6s\tremaining: 239ms\n",
      "193:\tlearn: 4.0392620\ttotal: 6.63s\tremaining: 205ms\n",
      "194:\tlearn: 4.0271490\ttotal: 6.65s\tremaining: 171ms\n",
      "195:\tlearn: 4.0256213\ttotal: 6.67s\tremaining: 136ms\n",
      "196:\tlearn: 4.0153280\ttotal: 6.68s\tremaining: 102ms\n",
      "197:\tlearn: 4.0090794\ttotal: 6.7s\tremaining: 67.7ms\n",
      "198:\tlearn: 4.0044129\ttotal: 6.73s\tremaining: 33.8ms\n",
      "199:\tlearn: 4.0034572\ttotal: 6.77s\tremaining: 0us\n"
     ]
    },
    {
     "data": {
      "text/plain": [
       "0.8291161810275657"
      ]
     },
     "execution_count": 77,
     "metadata": {},
     "output_type": "execute_result"
    }
   ],
   "source": [
    "model.fit(catxtrain,catytrain)\n",
    "a=model.predict(catxtest)\n",
    "r2_score(ytest,a)"
   ]
  },
  {
   "cell_type": "code",
   "execution_count": null,
   "metadata": {},
   "outputs": [],
   "source": []
  }
 ],
 "metadata": {
  "kernelspec": {
   "display_name": "Python 3",
   "language": "python",
   "name": "python3"
  },
  "language_info": {
   "codemirror_mode": {
    "name": "ipython",
    "version": 3
   },
   "file_extension": ".py",
   "mimetype": "text/x-python",
   "name": "python",
   "nbconvert_exporter": "python",
   "pygments_lexer": "ipython3",
   "version": "3.7.7"
  }
 },
 "nbformat": 4,
 "nbformat_minor": 4
}
